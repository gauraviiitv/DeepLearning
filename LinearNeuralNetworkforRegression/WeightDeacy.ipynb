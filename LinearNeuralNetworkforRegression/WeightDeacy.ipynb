{
 "cells": [
  {
   "cell_type": "markdown",
   "id": "bdcf8241-fc2e-4c05-92a8-4e0ff15f13ff",
   "metadata": {},
   "source": [
    "# Weight Decay"
   ]
  },
  {
   "cell_type": "code",
   "execution_count": 1,
   "id": "6111dab5-541d-40b3-8649-d5f14b4d18c1",
   "metadata": {},
   "outputs": [
    {
     "ename": "SyntaxError",
     "evalue": "invalid syntax (<unknown>, line 6)",
     "output_type": "error",
     "traceback": [
      "Traceback \u001b[1;36m(most recent call last)\u001b[0m:\n",
      "\u001b[0m  File \u001b[0;32m~\\anaconda3\\Lib\\site-packages\\IPython\\core\\interactiveshell.py:3526\u001b[0m in \u001b[0;35mrun_code\u001b[0m\n    exec(code_obj, self.user_global_ns, self.user_ns)\u001b[0m\n",
      "\u001b[0m  Cell \u001b[0;32mIn[1], line 9\u001b[0m\n    from LinearRegressionImplementationfromScratch import LinearRegressionScratch, Trainer\u001b[0m\n",
      "\u001b[0m  File \u001b[0;32m<frozen importlib._bootstrap>:1176\u001b[0m in \u001b[0;35m_find_and_load\u001b[0m\n",
      "\u001b[0m  File \u001b[0;32m<frozen importlib._bootstrap>:1147\u001b[0m in \u001b[0;35m_find_and_load_unlocked\u001b[0m\n",
      "\u001b[0m  File \u001b[0;32m<frozen importlib._bootstrap>:674\u001b[0m in \u001b[0;35m_load_unlocked\u001b[0m\n",
      "\u001b[0m  File \u001b[0;32m<frozen importlib._bootstrap>:634\u001b[0m in \u001b[0;35m_load_backward_compatible\u001b[0m\n",
      "\u001b[0m  File \u001b[0;32m~\\anaconda3\\Lib\\site-packages\\nbimporter.py:105\u001b[0m in \u001b[0;35mload_module\u001b[0m\n    tree = deleter.generic_visit(ast.parse(code))\u001b[0m\n",
      "\u001b[1;36m  File \u001b[1;32m~\\anaconda3\\Lib\\ast.py:50\u001b[1;36m in \u001b[1;35mparse\u001b[1;36m\n\u001b[1;33m    return compile(source, filename, mode, flags,\u001b[1;36m\n",
      "\u001b[1;36m  File \u001b[1;32m<unknown>:6\u001b[1;36m\u001b[0m\n\u001b[1;33m    from LinearNeuralNetworkforRegression.ObjectOrientedDesignforImplementation import import add_to_class, HyperParameters, Module, Trainer\u001b[0m\n\u001b[1;37m                                                                                       ^\u001b[0m\n\u001b[1;31mSyntaxError\u001b[0m\u001b[1;31m:\u001b[0m invalid syntax\n"
     ]
    }
   ],
   "source": [
    "%matplotlib inline\n",
    "import torch\n",
    "from torch import nn\n",
    "import sys\n",
    "import os\n",
    "sys.path.append(os.path.abspath(\"..\"))\n",
    "import nbimporter\n",
    "from ObjectOrientedDesignforImplementation import DataModule\n",
    "from LinearRegressionImplementationfromScratch import LinearRegressionScratch, Trainer\n",
    "from ConciseImplementationofLinearRegression import LinearRegression"
   ]
  },
  {
   "cell_type": "markdown",
   "id": "e525c665-d3d6-472e-8a57-bcd81aaf5bff",
   "metadata": {},
   "source": [
    "## High-Dimensional Linear Regression"
   ]
  },
  {
   "cell_type": "code",
   "execution_count": null,
   "id": "6ed8c6df-ee76-413a-b273-3a241c3b57b9",
   "metadata": {},
   "outputs": [],
   "source": [
    "class Data(DataModule):\n",
    "    def __init__(self, num_train, num_val, num_inputs, batch_size):\n",
    "        self.save_hyperparameters()\n",
    "        n = num_train + num_val\n",
    "        self.X = torch.randn(n, num_inputs)\n",
    "        noise = torch.randn(n, 1) * 0.01\n",
    "        w, b = torch.ones((num_inputs, 1)) * 0.01, 0.05\n",
    "        self.y = torch.matmul(self.X, w) + b + noise\n",
    "\n",
    "    def get_dataloader(self, train):\n",
    "        i = slice(0, self.num_train) if train else slice(self.num_train, None)\n",
    "        return self.get_tensorloader([self.X, self.y], train, i)"
   ]
  },
  {
   "cell_type": "markdown",
   "id": "5b6acdbc-5ce0-4417-9bd6-befa5786b023",
   "metadata": {},
   "source": [
    "## Defining ℓ2 Norm Penalty"
   ]
  },
  {
   "cell_type": "code",
   "execution_count": null,
   "id": "2349921c-af2c-45c6-bdd6-6c6b3ae84ec3",
   "metadata": {},
   "outputs": [],
   "source": [
    "def l2_penalty(w):\n",
    "    return (w ** 2).sum() / 2"
   ]
  },
  {
   "cell_type": "markdown",
   "id": "1e13f099-2b5b-461f-b0e8-d78b90557322",
   "metadata": {},
   "source": [
    "## Defining the Model"
   ]
  },
  {
   "cell_type": "code",
   "execution_count": null,
   "id": "29482e7f-12fe-43da-8b6c-078c48b302c2",
   "metadata": {},
   "outputs": [],
   "source": [
    "class WeightDecayScratch(LinearRegressionScratch):\n",
    "    def __init__(self, num_inputs, lambd, lr, sigma=0.01):\n",
    "        super().__init__(num_inputs, lr, sigma)\n",
    "        self.save_hyperparameters()\n",
    "\n",
    "    def loss(self, y_hat, y):\n",
    "        return (super().loss(y_hat, y) +\n",
    "                self.lambd * l2_penalty(self.w))"
   ]
  },
  {
   "cell_type": "code",
   "execution_count": null,
   "id": "a7a5c20f-09e3-4d79-b7d7-355901564642",
   "metadata": {},
   "outputs": [],
   "source": [
    "data = Data(num_train=20, num_val=100, num_inputs=200, batch_size=5)\n",
    "trainer = Trainer(max_epochs=10)\n",
    "\n",
    "def train_scratch(lambd):\n",
    "    model = WeightDecayScratch(num_inputs=200, lambd=lambd, lr=0.01)\n",
    "    model.board.yscale='log'\n",
    "    trainer.fit(model, data)\n",
    "    print('L2 norm of w:', float(l2_penalty(model.w)))"
   ]
  },
  {
   "cell_type": "markdown",
   "id": "c9e97760-4da9-4dca-a07c-c0f8a6c4eea6",
   "metadata": {},
   "source": [
    "## Training without Regularization"
   ]
  },
  {
   "cell_type": "code",
   "execution_count": null,
   "id": "99e25574-28e3-4c04-96cd-dbcbf9d96b63",
   "metadata": {},
   "outputs": [],
   "source": [
    "train_scratch(0)"
   ]
  },
  {
   "cell_type": "markdown",
   "id": "e3e18831-8dbd-49b8-8f9a-f8da3ff02e1c",
   "metadata": {},
   "source": [
    "## Using Weight Decay"
   ]
  },
  {
   "cell_type": "code",
   "execution_count": null,
   "id": "51f1a949-8270-4704-a2a7-80a250983ba6",
   "metadata": {},
   "outputs": [],
   "source": [
    "train_scratch(3)"
   ]
  },
  {
   "cell_type": "markdown",
   "id": "4d5050cb-729b-4f68-8c9f-06470db08267",
   "metadata": {},
   "source": [
    "## Concise Implementation"
   ]
  },
  {
   "cell_type": "code",
   "execution_count": null,
   "id": "2442d845-af20-47ca-8ae5-5bd08f69fb49",
   "metadata": {},
   "outputs": [],
   "source": [
    "class WeightDecay(LinearRegression):\n",
    "    def __init__(self, wd, lr):\n",
    "        super().__init__(lr)\n",
    "        self.save_hyperparameters()\n",
    "        self.wd = wd\n",
    "\n",
    "    def configure_optimizers(self):\n",
    "        return torch.optim.SGD([\n",
    "            {'params': self.net.weight, 'weight_decay': self.wd},\n",
    "            {'params': self.net.bias}], lr=self.lr)"
   ]
  },
  {
   "cell_type": "code",
   "execution_count": null,
   "id": "a210e2e6-5b71-4daf-b43a-66c7254f1291",
   "metadata": {},
   "outputs": [],
   "source": [
    "model = WeightDecay(wd=3, lr=0.01)\n",
    "model.board.yscale='log'\n",
    "trainer.fit(model, data)\n",
    "\n",
    "print('L2 norm of w:', float(l2_penalty(model.get_w_b()[0])))"
   ]
  },
  {
   "cell_type": "code",
   "execution_count": null,
   "id": "b5027894-cd2e-453d-8331-765ec10fce40",
   "metadata": {},
   "outputs": [],
   "source": []
  }
 ],
 "metadata": {
  "kernelspec": {
   "display_name": "Python 3 (ipykernel)",
   "language": "python",
   "name": "python3"
  },
  "language_info": {
   "codemirror_mode": {
    "name": "ipython",
    "version": 3
   },
   "file_extension": ".py",
   "mimetype": "text/x-python",
   "name": "python",
   "nbconvert_exporter": "python",
   "pygments_lexer": "ipython3",
   "version": "3.11.5"
  }
 },
 "nbformat": 4,
 "nbformat_minor": 5
}
