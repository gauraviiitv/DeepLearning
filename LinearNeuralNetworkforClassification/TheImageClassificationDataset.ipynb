{
 "cells": [
  {
   "cell_type": "markdown",
   "id": "ad90c858-ae71-441a-9ecb-0f6d18defd71",
   "metadata": {},
   "source": [
    "# The Image Classification Dataset"
   ]
  },
  {
   "cell_type": "code",
   "execution_count": 1,
   "id": "204851da-2195-4958-a8b3-97870b9dd600",
   "metadata": {},
   "outputs": [],
   "source": [
    "%matplotlib inline\n",
    "import time\n",
    "import torch\n",
    "import torchvision\n",
    "from torchvision import transforms\n",
    "import matplotlib.pyplot as plt\n",
    "import sys\n",
    "import os\n",
    "sys.path.append(os.path.abspath(\"..\"))\n",
    "import nbimporter\n",
    "from LinearNeuralNetworkforRegression.ObjectOrientedDesignforImplementation import add_to_class, DataModule "
   ]
  },
  {
   "cell_type": "markdown",
   "id": "0b3882c7-8cea-4e0e-b1d0-fea80747c560",
   "metadata": {},
   "source": [
    "## Loading the Dataset"
   ]
  },
  {
   "cell_type": "code",
   "execution_count": 2,
   "id": "a0f43f12-5d4e-4641-acfd-53cec612d28a",
   "metadata": {},
   "outputs": [],
   "source": [
    "class FashionMNIST(DataModule):  #@save\n",
    "    \"\"\"The Fashion-MNIST dataset.\"\"\"\n",
    "    def __init__(self, batch_size=64, resize=(28, 28)):\n",
    "        super().__init__()\n",
    "        self.save_hyperparameters()\n",
    "        trans = transforms.Compose([transforms.Resize(resize),\n",
    "                                    transforms.ToTensor()])\n",
    "        self.train = torchvision.datasets.FashionMNIST(\n",
    "            root=self.root, train=True, transform=trans, download=True)\n",
    "        self.val = torchvision.datasets.FashionMNIST(\n",
    "            root=self.root, train=False, transform=trans, download=True)"
   ]
  },
  {
   "cell_type": "code",
   "execution_count": 3,
   "id": "749ab48d-12b5-4c27-89cb-c9483186b18a",
   "metadata": {},
   "outputs": [
    {
     "data": {
      "text/plain": [
       "(60000, 10000)"
      ]
     },
     "execution_count": 3,
     "metadata": {},
     "output_type": "execute_result"
    }
   ],
   "source": [
    "data = FashionMNIST(resize=(32, 32))\n",
    "len(data.train), len(data.val)"
   ]
  },
  {
   "cell_type": "code",
   "execution_count": 4,
   "id": "dba7fd2d-c4cd-405e-a040-daff1f263860",
   "metadata": {},
   "outputs": [
    {
     "data": {
      "text/plain": [
       "torch.Size([1, 32, 32])"
      ]
     },
     "execution_count": 4,
     "metadata": {},
     "output_type": "execute_result"
    }
   ],
   "source": [
    "data.train[0][0].shape"
   ]
  },
  {
   "cell_type": "code",
   "execution_count": 5,
   "id": "299f2f63-8c64-470d-ac14-3f770adcb3c8",
   "metadata": {},
   "outputs": [],
   "source": [
    "@add_to_class(FashionMNIST)  #@save\n",
    "def text_labels(self, indices):\n",
    "    \"\"\"Return text labels.\"\"\"\n",
    "    labels = ['t-shirt', 'trouser', 'pullover', 'dress', 'coat',\n",
    "              'sandal', 'shirt', 'sneaker', 'bag', 'ankle boot']\n",
    "    return [labels[int(i)] for i in indices]"
   ]
  },
  {
   "cell_type": "markdown",
   "id": "8a8231a3-effd-4d04-ade7-c78e28aa416a",
   "metadata": {},
   "source": [
    "## Reading a Minibatch"
   ]
  },
  {
   "cell_type": "code",
   "execution_count": 6,
   "id": "04f4d8c9-3bbd-4fcd-8fc6-1561d324d085",
   "metadata": {},
   "outputs": [],
   "source": [
    "@add_to_class(FashionMNIST)  #@save\n",
    "def get_dataloader(self, train):\n",
    "    data = self.train if train else self.val\n",
    "    return torch.utils.data.DataLoader(data, self.batch_size, shuffle=train,\n",
    "                                       num_workers=self.num_workers)"
   ]
  },
  {
   "cell_type": "code",
   "execution_count": null,
   "id": "440fe718-310e-45ea-94e7-22d4227d68b2",
   "metadata": {},
   "outputs": [],
   "source": [
    "X, y = next(iter(data.train_dataloader()))\n",
    "print(X.shape, X.dtype, y.shape, y.dtype)"
   ]
  },
  {
   "cell_type": "code",
   "execution_count": null,
   "id": "4adc4dc1-824e-46f3-ab81-770cbfc9720a",
   "metadata": {},
   "outputs": [],
   "source": [
    "tic = time.time()\n",
    "for X, y in data.train_dataloader():\n",
    "    continue\n",
    "f'{time.time() - tic:.2f} sec'"
   ]
  },
  {
   "cell_type": "markdown",
   "id": "ae6576d3-9902-491f-82fe-8ff166d021c5",
   "metadata": {},
   "source": [
    "## Visualization"
   ]
  },
  {
   "cell_type": "code",
   "execution_count": null,
   "id": "a62c325a-80ee-403b-a3c0-1738377c5fc2",
   "metadata": {},
   "outputs": [],
   "source": [
    "def show_images(imgs, num_rows, num_cols, titles=None, scale=1.5):\n",
    "    \"\"\"Plot a list of images.\n",
    "\n",
    "    Defined in :numref:`sec_utils`\"\"\"\n",
    "    figsize = (num_cols * scale, num_rows * scale)\n",
    "    _, axes = plt.subplots(num_rows, num_cols, figsize=figsize)\n",
    "    axes = axes.flatten()\n",
    "    for i, (ax, img) in enumerate(zip(axes, imgs)):\n",
    "        try:\n",
    "            img = d2l.numpy(img)\n",
    "        except:\n",
    "            pass\n",
    "        ax.imshow(img)\n",
    "        ax.axes.get_xaxis().set_visible(False)\n",
    "        ax.axes.get_yaxis().set_visible(False)\n",
    "        if titles:\n",
    "            ax.set_title(titles[i])\n",
    "    return axes"
   ]
  },
  {
   "cell_type": "code",
   "execution_count": null,
   "id": "048de262-9a35-42fe-9df6-d5b306c1b66c",
   "metadata": {},
   "outputs": [],
   "source": [
    "@add_to_class(FashionMNIST)  #@save\n",
    "def visualize(self, batch, nrows=1, ncols=8, labels=[]):\n",
    "    X, y = batch\n",
    "    if not labels:\n",
    "        labels = self.text_labels(y)\n",
    "    show_images(X.squeeze(1), nrows, ncols, titles=labels)\n",
    "batch = next(iter(data.val_dataloader()))\n",
    "data.visualize(batch)"
   ]
  }
 ],
 "metadata": {
  "kernelspec": {
   "display_name": "Python 3 (ipykernel)",
   "language": "python",
   "name": "python3"
  },
  "language_info": {
   "codemirror_mode": {
    "name": "ipython",
    "version": 3
   },
   "file_extension": ".py",
   "mimetype": "text/x-python",
   "name": "python",
   "nbconvert_exporter": "python",
   "pygments_lexer": "ipython3",
   "version": "3.11.5"
  }
 },
 "nbformat": 4,
 "nbformat_minor": 5
}
