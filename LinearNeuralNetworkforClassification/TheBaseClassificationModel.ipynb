{
 "cells": [
  {
   "cell_type": "markdown",
   "id": "61dce989-e6a6-4078-a8a2-8811cbfa72f3",
   "metadata": {},
   "source": [
    "# The Base Classification Model"
   ]
  },
  {
   "cell_type": "code",
   "execution_count": 1,
   "id": "6b38c7bc-807b-46d6-ae9d-4618adc63bd7",
   "metadata": {},
   "outputs": [],
   "source": [
    "import torch\n",
    "import sys\n",
    "import os\n",
    "sys.path.append(os.path.abspath(\"..\"))\n",
    "import nbimporter\n",
    "from LinearNeuralNetworkforRegression.ObjectOrientedDesignforImplementation import add_to_class, Module "
   ]
  },
  {
   "cell_type": "markdown",
   "id": "1bb71328-12e7-48c8-9e32-56bd4c115ca7",
   "metadata": {},
   "source": [
    "## The Classifier Class"
   ]
  },
  {
   "cell_type": "code",
   "execution_count": 2,
   "id": "5d672d70-5f66-4bdd-b056-22a18e8d567f",
   "metadata": {},
   "outputs": [],
   "source": [
    "class Classifier(Module):  #@save\n",
    "    \"\"\"The base class of classification models.\"\"\"\n",
    "    def validation_step(self, batch):\n",
    "        Y_hat = self(*batch[:-1])\n",
    "        self.plot('loss', self.loss(Y_hat, batch[-1]), train=False)\n",
    "        self.plot('acc', self.accuracy(Y_hat, batch[-1]), train=False)"
   ]
  },
  {
   "cell_type": "code",
   "execution_count": 3,
   "id": "909948aa-085d-4f32-b963-d43c3a53e512",
   "metadata": {},
   "outputs": [],
   "source": [
    "@add_to_class(Module)  #@save\n",
    "def configure_optimizers(self):\n",
    "    return torch.optim.SGD(self.parameters(), lr=self.lr)"
   ]
  },
  {
   "cell_type": "markdown",
   "id": "8b42e80c-fd2d-44a9-a699-7ba8c5337db8",
   "metadata": {},
   "source": [
    "## Accuracy"
   ]
  },
  {
   "cell_type": "code",
   "execution_count": 4,
   "id": "374fecf5-8031-4748-8b4a-ddc7bc15dec5",
   "metadata": {},
   "outputs": [],
   "source": [
    "@add_to_class(Classifier)  #@save\n",
    "def accuracy(self, Y_hat, Y, averaged=True):\n",
    "    \"\"\"Compute the number of correct predictions.\"\"\"\n",
    "    Y_hat = Y_hat.reshape((-1, Y_hat.shape[-1]))\n",
    "    preds = Y_hat.argmax(axis=1).type(Y.dtype)\n",
    "    compare = (preds == Y.reshape(-1)).type(torch.float32)\n",
    "    return compare.mean() if averaged else compare"
   ]
  },
  {
   "cell_type": "code",
   "execution_count": null,
   "id": "9c6c4954-c966-4a87-b0e1-c0d863d3f1ed",
   "metadata": {},
   "outputs": [],
   "source": []
  }
 ],
 "metadata": {
  "kernelspec": {
   "display_name": "Python 3 (ipykernel)",
   "language": "python",
   "name": "python3"
  },
  "language_info": {
   "codemirror_mode": {
    "name": "ipython",
    "version": 3
   },
   "file_extension": ".py",
   "mimetype": "text/x-python",
   "name": "python",
   "nbconvert_exporter": "python",
   "pygments_lexer": "ipython3",
   "version": "3.11.5"
  }
 },
 "nbformat": 4,
 "nbformat_minor": 5
}
